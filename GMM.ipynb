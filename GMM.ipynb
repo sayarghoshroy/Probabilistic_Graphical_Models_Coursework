{
  "nbformat": 4,
  "nbformat_minor": 0,
  "metadata": {
    "colab": {
      "name": "GMM.ipynb",
      "provenance": [],
      "authorship_tag": "ABX9TyMGOdIjyn/YbniwroBI9OY5",
      "include_colab_link": true
    },
    "kernelspec": {
      "name": "python3",
      "display_name": "Python 3"
    }
  },
  "cells": [
    {
      "cell_type": "markdown",
      "metadata": {
        "id": "view-in-github",
        "colab_type": "text"
      },
      "source": [
        "<a href=\"https://colab.research.google.com/github/sayarghoshroy/Probabilistic_Graphical_Models_Coursework/blob/master/GMM.ipynb\" target=\"_parent\"><img src=\"https://colab.research.google.com/assets/colab-badge.svg\" alt=\"Open In Colab\"/></a>"
      ]
    },
    {
      "cell_type": "code",
      "metadata": {
        "id": "IrR81IwtwHMM",
        "colab_type": "code",
        "colab": {}
      },
      "source": [
        "# Gaussian Mixture Model"
      ],
      "execution_count": 0,
      "outputs": []
    },
    {
      "cell_type": "code",
      "metadata": {
        "id": "scNG9jn8we9-",
        "colab_type": "code",
        "colab": {}
      },
      "source": [
        "import numpy as np\n",
        "import matplotlib.pyplot as plt\n",
        "from sklearn.mixture import GaussianMixture as gaussian"
      ],
      "execution_count": 0,
      "outputs": []
    },
    {
      "cell_type": "code",
      "metadata": {
        "id": "b2Cb1UciwM1_",
        "colab_type": "code",
        "colab": {}
      },
      "source": [
        "train_size = int(1e4)\n",
        "test_size = int(3e3)"
      ],
      "execution_count": 0,
      "outputs": []
    },
    {
      "cell_type": "code",
      "metadata": {
        "id": "9bmWZj8PwRv7",
        "colab_type": "code",
        "colab": {}
      },
      "source": [
        "def make_data(size):\n",
        "    gaussian_x = np.random.normal(0, 4, size)\n",
        "    gaussian_y = np.random.normal(-6, 4, size)\n",
        "    gaussian_z = np.random.normal(6, 4, size)\n",
        "    dataset = 0.4 * gaussian_x + 0.3 * gaussian_y + 0.3 * gaussian_z\n",
        "    return dataset"
      ],
      "execution_count": 0,
      "outputs": []
    },
    {
      "cell_type": "code",
      "metadata": {
        "id": "2L8ZWnbdwunr",
        "colab_type": "code",
        "colab": {}
      },
      "source": [
        "train = make_data(train_size)"
      ],
      "execution_count": 0,
      "outputs": []
    },
    {
      "cell_type": "code",
      "metadata": {
        "id": "e-LZttcYwweZ",
        "colab_type": "code",
        "colab": {}
      },
      "source": [
        "# Creating the GMM\n",
        "model = gaussian(n_components = 3, max_iter = 10000).fit(np.asmatrix(train).T)"
      ],
      "execution_count": 0,
      "outputs": []
    },
    {
      "cell_type": "code",
      "metadata": {
        "id": "GHjDSRAx9o2e",
        "colab_type": "code",
        "colab": {
          "base_uri": "https://localhost:8080/",
          "height": 106
        },
        "outputId": "f0bbf326-637d-4fae-e7b1-433185b3ffee"
      },
      "source": [
        "print(\"Model Parameters:\")\n",
        "model.get_params"
      ],
      "execution_count": 7,
      "outputs": [
        {
          "output_type": "stream",
          "text": [
            "Model Parameters:\n"
          ],
          "name": "stdout"
        },
        {
          "output_type": "execute_result",
          "data": {
            "text/plain": [
              "<bound method BaseEstimator.get_params of GaussianMixture(covariance_type='full', init_params='kmeans', max_iter=10000,\n",
              "                means_init=None, n_components=3, n_init=1, precisions_init=None,\n",
              "                random_state=None, reg_covar=1e-06, tol=0.001, verbose=0,\n",
              "                verbose_interval=10, warm_start=False, weights_init=None)>"
            ]
          },
          "metadata": {
            "tags": []
          },
          "execution_count": 7
        }
      ]
    },
    {
      "cell_type": "code",
      "metadata": {
        "id": "iwooTQ9p95Ul",
        "colab_type": "code",
        "colab": {
          "base_uri": "https://localhost:8080/",
          "height": 159
        },
        "outputId": "30aa0002-6686-4d0e-e667-6a300ae57708"
      },
      "source": [
        "# creating a dataset for testing\n",
        "test = make_data(test_size)\n",
        "\n",
        "# generating plot for the test_set\n",
        "\n",
        "# sorting testing set in ascending order\n",
        "test = np.sort(test)\n",
        "\n",
        "# calculating the most possible origin for each point in test data\n",
        "probabilities = model.predict_proba(np.asmatrix(test).T)\n",
        "print(\"Origin Probabilities:\")\n",
        "print(probabilities)"
      ],
      "execution_count": 8,
      "outputs": [
        {
          "output_type": "stream",
          "text": [
            "Origin Probabilities:\n",
            "[[6.70252926e-08 9.99998923e-01 1.01025272e-06]\n",
            " [6.73954032e-08 9.99998914e-01 1.01812273e-06]\n",
            " [1.23163634e-07 9.99997521e-01 2.35627152e-06]\n",
            " ...\n",
            " [9.99997649e-01 9.02323818e-08 2.26053614e-06]\n",
            " [9.99999647e-01 2.18868776e-08 3.30945535e-07]\n",
            " [9.99999735e-01 1.77732761e-08 2.47484899e-07]]\n"
          ],
          "name": "stdout"
        }
      ]
    },
    {
      "cell_type": "code",
      "metadata": {
        "id": "wY5RSIM2-Vpq",
        "colab_type": "code",
        "colab": {
          "base_uri": "https://localhost:8080/",
          "height": 404
        },
        "outputId": "b58f8cc3-062d-4f65-a28e-9eb19a81c000"
      },
      "source": [
        "# Finding best Possible Class for Each\n",
        "best_chance = np.max(probabilities, axis = 1)\n",
        "\n",
        "chance_x = probabilities[:, 0]\n",
        "chance_y = probabilities[:, 1]\n",
        "chance_z = probabilities[:, 2]\n",
        "\n",
        "# Plotting the Histogram\n",
        "\n",
        "vis = plt.figure(figsize = (12, 6))\n",
        "fig = vis.add_subplot('111')\n",
        "fig.set_title('Test Data')\n",
        "fig.set_xlabel('Data')\n",
        "fig.set_ylabel('Normalized Prior Probability')\n",
        "\n",
        "fig.bar(test, best_chance, width = 0.025, color = 'yellow')\n",
        "fig.plot(test, chance_x, color = 'red', label = '1')\n",
        "fig.plot(test, chance_y, color = 'blue', label = '2')\n",
        "fig.plot(test, chance_z, color = 'green', label = '3')\n",
        "\n",
        "fig.legend()\n",
        "vis.show()"
      ],
      "execution_count": 9,
      "outputs": [
        {
          "output_type": "display_data",
          "data": {
            "image/png": "[encoded data removed]",
            "text/plain": [
              "<Figure size 864x432 with 1 Axes>"
            ]
          },
          "metadata": {
            "tags": [],
            "needs_background": "light"
          }
        }
      ]
    },
    {
      "cell_type": "code",
      "metadata": {
        "id": "INtlM8kqCJHR",
        "colab_type": "code",
        "colab": {}
      },
      "source": [
        "# ^_^ Thank You"
      ],
      "execution_count": 0,
      "outputs": []
    }
  ]
}